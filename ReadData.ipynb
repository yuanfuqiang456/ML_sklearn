{
 "cells": [
  {
   "cell_type": "code",
   "execution_count": null,
   "metadata": {},
   "outputs": [],
   "source": [
    "#read data from text"
   ]
  },
  {
   "cell_type": "code",
   "execution_count": 1,
   "metadata": {},
   "outputs": [],
   "source": [
    "import pandas as pd"
   ]
  },
  {
   "cell_type": "code",
   "execution_count": null,
   "metadata": {},
   "outputs": [],
   "source": [
    "data = pd.read_csv('filepath',names = ['A1','A2','B1'],sep = '\\t')\n",
    "print data.head()\n",
    "print data.info()"
   ]
  },
  {
   "cell_type": "code",
   "execution_count": null,
   "metadata": {},
   "outputs": [],
   "source": [
    "#数据筛选"
   ]
  },
  {
   "cell_type": "code",
   "execution_count": null,
   "metadata": {},
   "outputs": [],
   "source": [
    "select_feature = ['A1','A2']\n",
    "select_label = ['B1']\n",
    "x_data = data[select_feature]\n",
    "y_data = data[select_label]"
   ]
  },
  {
   "cell_type": "code",
   "execution_count": null,
   "metadata": {},
   "outputs": [],
   "source": [
    "#选择 label  为 1的数据\n",
    "data1 = data[data['label'] == 1]"
   ]
  },
  {
   "cell_type": "code",
   "execution_count": null,
   "metadata": {},
   "outputs": [],
   "source": [
    "#删除某一列\n",
    "data.drop(['A1'],axis = 1, inplace = True)"
   ]
  },
  {
   "cell_type": "code",
   "execution_count": null,
   "metadata": {},
   "outputs": [],
   "source": [
    "#类别型特征0-1化\n",
    "dummies_A1 = pd.get_dummies(data['A1'],prefix = 'pre') #生成pre1 pre2 pre3等 一列转多列\n",
    "dataNew = pd.concat([data, dummies_A1],axis = 1) #数据拼接"
   ]
  },
  {
   "cell_type": "code",
   "execution_count": null,
   "metadata": {},
   "outputs": [],
   "source": [
    "#数据标准化 标准化 与 归一化相比 可以剔除异常值影响 如1，2 20000.1和2 有区别的化，标准化可以区分，归一化不可以\n",
    "import sklearn.preprocessing as preprocessing\n",
    "scaler = preprocessing.StandarScaler()\n",
    "data['A2'] = scaler.fit_transform(data['A2'].values.reshape(-1,1))"
   ]
  }
 ],
 "metadata": {
  "kernelspec": {
   "display_name": "Python 2",
   "language": "python",
   "name": "python2"
  },
  "language_info": {
   "codemirror_mode": {
    "name": "ipython",
    "version": 2
   },
   "file_extension": ".py",
   "mimetype": "text/x-python",
   "name": "python",
   "nbconvert_exporter": "python",
   "pygments_lexer": "ipython2",
   "version": "2.7.16"
  }
 },
 "nbformat": 4,
 "nbformat_minor": 2
}
