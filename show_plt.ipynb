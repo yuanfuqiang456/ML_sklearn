{
 "cells": [
  {
   "cell_type": "code",
   "execution_count": 1,
   "metadata": {},
   "outputs": [],
   "source": [
    "import matplotlib.pyplot as plt\n",
    "import pandas as pd"
   ]
  },
  {
   "cell_type": "code",
   "execution_count": null,
   "metadata": {},
   "outputs": [],
   "source": [
    "#散点图\n",
    "select_feature = ['A1']\n",
    "select_label = ['B1']\n",
    "x_data = data[select_feature]\n",
    "y_data = data[select_label]\n",
    "plt.scatter(x_data,y_data)"
   ]
  },
  {
   "cell_type": "code",
   "execution_count": null,
   "metadata": {},
   "outputs": [],
   "source": [
    "#不同类型数据 的A1，A2 维度上的分布\n",
    "data.plot(kind = 'scatter', x= 'A1', y = 'A2', color = 'red', label='B1') "
   ]
  },
  {
   "cell_type": "code",
   "execution_count": null,
   "metadata": {},
   "outputs": [],
   "source": [
    "# 数据相关性图 androws \n",
    "from pandas.plotting import andrews_curves\n",
    "select_feature = ['A1','A2','B1']\n",
    "data_new = data[select_feature]\n",
    "plt.figure()\n",
    "andrews_curves(data_new, 'B1')"
   ]
  },
  {
   "cell_type": "code",
   "execution_count": null,
   "metadata": {},
   "outputs": [],
   "source": [
    "#雷达图\n",
    "from  pandas.plotting import radviz\n",
    "radviz(data_new, 'B1')"
   ]
  },
  {
   "cell_type": "code",
   "execution_count": null,
   "metadata": {},
   "outputs": [],
   "source": [
    "#正负样本分布 柱状图 A1属性 离散型数据\n",
    "data_0 = data.A1[data.B1 == 0].value_counts()\n",
    "data_1 = data.A1[data.B1 == 1].value_counts()\n",
    "df = pd.DataFrame('sample0':data_0,'sample1':data_1)\n",
    "df.plt(kind = 'bar', stacked = True )\n",
    "plt.xlabel('A1')\n",
    "plt.ylabel('count')\n",
    "plt.show()"
   ]
  },
  {
   "cell_type": "code",
   "execution_count": null,
   "metadata": {},
   "outputs": [],
   "source": [
    "#正负样本分布 密度曲线 连续性数据 A2 属性\n",
    "data.A2[data.B1 == 0].plot(kind = 'kde')\n",
    "data.A2[data.B1 == 1].plot(kind = 'kde')\n",
    "plt.xlabel('A2')\n",
    "plt.ylabel('count')\n",
    "plt.legend(('+','-'), loc = 'best')"
   ]
  },
  {
   "cell_type": "code",
   "execution_count": null,
   "metadata": {},
   "outputs": [],
   "source": [
    "#样本属性两两之间相关性图 显示特征之间是否具有相关性 正相关还是负相关 一般相关性的分布在对角线上\n",
    "import seaborn as sns\n",
    "pic1 = sns.pairplot(data,vars=['A1','A2','A3'],hue='B1')\n",
    "plt.show()"
   ]
  },
  {
   "cell_type": "code",
   "execution_count": null,
   "metadata": {},
   "outputs": [],
   "source": [
    "#相关性热图 通过颜色深浅来显示两属性之间的相关性 颜色越深越相关\n",
    "import numpy as np\n",
    "corr = data.corr()\n",
    "mask = np.zeros_like(corr, dtype=np.bool)\n",
    "mask[np.triu_indices_from(mask)] = True\n",
    "\n",
    "f,ax = plt.subplots(figsize = (11,9))\n",
    "\n",
    "cmap = sns.diverging_palete(220,10,as_cmap = True )\n",
    "\n",
    "sns.heatmap(corr, mask=mask, cmap=cmap, vmax = 3, center = 0,square = True, linewidths = .5, cbar_kws{\"shrink\":.5})"
   ]
  },
  {
   "cell_type": "code",
   "execution_count": null,
   "metadata": {},
   "outputs": [],
   "source": []
  }
 ],
 "metadata": {
  "kernelspec": {
   "display_name": "Python 2",
   "language": "python",
   "name": "python2"
  },
  "language_info": {
   "codemirror_mode": {
    "name": "ipython",
    "version": 2
   },
   "file_extension": ".py",
   "mimetype": "text/x-python",
   "name": "python",
   "nbconvert_exporter": "python",
   "pygments_lexer": "ipython2",
   "version": "2.7.16"
  }
 },
 "nbformat": 4,
 "nbformat_minor": 2
}
